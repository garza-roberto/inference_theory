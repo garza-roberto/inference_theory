{
 "cells": [
  {
   "cell_type": "code",
   "execution_count": 51,
   "metadata": {},
   "outputs": [],
   "source": [
    "from scipy.optimize import nnls\n",
    "import numpy as np"
   ]
  },
  {
   "cell_type": "code",
   "execution_count": 52,
   "metadata": {},
   "outputs": [],
   "source": [
    "def power_law_nl(x, a = 1, b = 2):\n",
    "    return a * x**b\n",
    "\n",
    "def power_law_inv(y, a = 1, b = 2):\n",
    "    return (y / a)**(1/b)"
   ]
  },
  {
   "cell_type": "code",
   "execution_count": 53,
   "metadata": {},
   "outputs": [],
   "source": [
    "#load data (.mat)\n",
    "import scipy.io as sio\n",
    "data = sio.loadmat('../../data/Data_cell_types_small_size.mat')"
   ]
  },
  {
   "cell_type": "code",
   "execution_count": 54,
   "metadata": {},
   "outputs": [
    {
     "data": {
      "text/plain": [
       "dict_keys(['__header__', '__version__', '__globals__', 'pyr', 'pv', 'sst', 'vip', 'contrast'])"
      ]
     },
     "execution_count": 54,
     "metadata": {},
     "output_type": "execute_result"
    }
   ],
   "source": [
    "data.keys()"
   ]
  },
  {
   "cell_type": "code",
   "execution_count": 55,
   "metadata": {},
   "outputs": [],
   "source": [
    "#extract mean activity per cell type\n",
    "som = data['sst']\n",
    "som_act = np.mean(som, axis =0)\n",
    "\n",
    "pv = data['pv']\n",
    "pv_act = np.mean(pv, axis =0)\n",
    "\n",
    "vip = data['vip']\n",
    "vip_act = np.mean(vip, axis =0)\n",
    "\n",
    "e = data['pyr']\n",
    "e_act = np.mean(e, axis =0)"
   ]
  },
  {
   "cell_type": "markdown",
   "metadata": {},
   "source": [
    "# fit som"
   ]
  },
  {
   "cell_type": "code",
   "execution_count": 56,
   "metadata": {},
   "outputs": [],
   "source": [
    "# we use negative values to indicate inhibition (and then use non negative least squares)\n",
    "A = np.concatenate((e_act[:,np.newaxis], -1*pv_act[:,np.newaxis], -1*som_act[:,np.newaxis], -1*vip_act[:,np.newaxis]), axis = 1)\n",
    "A = np.concatenate((A, np.zeros((A.shape[0],1))), axis = 1)\n",
    "A = np.concatenate((A, np.ones((A.shape[0],1))), axis = 1)\n",
    "\n",
    "y = power_law_inv(som_act)\n"
   ]
  },
  {
   "cell_type": "code",
   "execution_count": 57,
   "metadata": {},
   "outputs": [],
   "source": [
    "x_som = nnls(A, y)"
   ]
  },
  {
   "cell_type": "code",
   "execution_count": 58,
   "metadata": {},
   "outputs": [
    {
     "data": {
      "text/plain": [
       "(array([0.90247262, 0.        , 0.        , 0.51539458, 0.        ,\n",
       "        0.3630127 ]),\n",
       " 0.10177940318206172)"
      ]
     },
     "execution_count": 58,
     "metadata": {},
     "output_type": "execute_result"
    }
   ],
   "source": [
    "x_som"
   ]
  },
  {
   "cell_type": "markdown",
   "metadata": {},
   "source": [
    "# fit pv"
   ]
  },
  {
   "cell_type": "code",
   "execution_count": 59,
   "metadata": {},
   "outputs": [],
   "source": [
    "A = np.concatenate((e_act[:,np.newaxis], -1* pv_act[:,np.newaxis], -1*som_act[:,np.newaxis], -1*vip_act[:,np.newaxis]), axis = 1)\n",
    "Is = data['contrast']\n",
    "A = np.concatenate((A, Is.T), axis=1)\n",
    "A = np.concatenate((A, np.ones((A.shape[0],1))), axis = 1)\n",
    "y = power_law_inv(pv_act,)\n",
    "x_pv = nnls(A, y)"
   ]
  },
  {
   "cell_type": "code",
   "execution_count": 60,
   "metadata": {},
   "outputs": [
    {
     "data": {
      "text/plain": [
       "(array([0.6267717 , 0.        , 0.49034239, 0.        , 0.00383783,\n",
       "        0.37665983]),\n",
       " 0.024222399833674656)"
      ]
     },
     "execution_count": 60,
     "metadata": {},
     "output_type": "execute_result"
    }
   ],
   "source": [
    "x_pv"
   ]
  },
  {
   "cell_type": "markdown",
   "metadata": {},
   "source": [
    "# fit vip"
   ]
  },
  {
   "cell_type": "code",
   "execution_count": 61,
   "metadata": {},
   "outputs": [
    {
     "data": {
      "text/plain": [
       "(array([0.61244814, 0.13455959, 0.52075599, 0.        , 0.        ,\n",
       "        0.64538931]),\n",
       " 0.10533766332518235)"
      ]
     },
     "execution_count": 61,
     "metadata": {},
     "output_type": "execute_result"
    }
   ],
   "source": [
    "A = np.concatenate((e_act[:,np.newaxis], -1*pv_act[:,np.newaxis], -1*som_act[:,np.newaxis], -1*vip_act[:,np.newaxis]), axis = 1)\n",
    "A = np.concatenate((A, np.zeros((A.shape[0],1))), axis = 1)\n",
    "A = np.concatenate((A, np.ones((A.shape[0],1))), axis = 1)\n",
    "y = power_law_inv(vip_act)\n",
    "x_vip = nnls(A, y)\n",
    "x_vip"
   ]
  },
  {
   "cell_type": "markdown",
   "metadata": {},
   "source": [
    "# fit E"
   ]
  },
  {
   "cell_type": "code",
   "execution_count": 12,
   "metadata": {},
   "outputs": [
    {
     "data": {
      "text/plain": [
       "(array([0.85019137, 0.12046141, 0.32576243, 0.        , 0.00194141,\n",
       "        0.34042947]),\n",
       " 0.003432758054374357)"
      ]
     },
     "execution_count": 12,
     "metadata": {},
     "output_type": "execute_result"
    }
   ],
   "source": [
    "A = np.concatenate((e_act[:,np.newaxis], -1*pv_act[:,np.newaxis], -1*som_act[:,np.newaxis], -1*vip_act[:,np.newaxis]), axis = 1)\n",
    "Is = data['contrast']\n",
    "A = np.concatenate((A, Is.T), axis=1)\n",
    "A = np.concatenate((A, np.ones((A.shape[0],1))), axis = 1)\n",
    "y = power_law_inv(e_act)\n",
    "x_e = nnls(A, y)\n",
    "x_e"
   ]
  },
  {
   "cell_type": "markdown",
   "metadata": {},
   "source": [
    "# params"
   ]
  },
  {
   "cell_type": "code",
   "execution_count": 13,
   "metadata": {},
   "outputs": [
    {
     "data": {
      "text/plain": [
       "<matplotlib.colorbar.Colorbar at 0x286e7822fc8>"
      ]
     },
     "execution_count": 13,
     "metadata": {},
     "output_type": "execute_result"
    },
    {
     "data": {
      "image/png": "[encoded data removed]",
      "text/plain": [
       "<Figure size 432x288 with 2 Axes>"
      ]
     },
     "metadata": {
      "needs_background": "light"
     },
     "output_type": "display_data"
    }
   ],
   "source": [
    "cells = ['E','PV', 'SOM', 'VIP']\n",
    "W = np.array([x_e[0][:4], x_pv[0][:4], x_som[0][:4], x_vip[0][:4]])\n",
    "#weight from pv to e\n",
    "w_ep = x_e[0][1]\n",
    "\n",
    "import matplotlib.pyplot as plt\n",
    "plt.imshow(W)\n",
    "plt.ylabel('post-synpatic')\n",
    "plt.xlabel('pre-synaptic')\n",
    "plt.xticks(np.arange(4), cells)\n",
    "plt.yticks(np.arange(4), cells)\n",
    "plt.colorbar()"
   ]
  },
  {
   "cell_type": "code",
   "execution_count": 14,
   "metadata": {},
   "outputs": [
    {
     "data": {
      "text/plain": [
       "<matplotlib.colorbar.Colorbar at 0x286e7913188>"
      ]
     },
     "execution_count": 14,
     "metadata": {},
     "output_type": "execute_result"
    },
    {
     "data": {
      "image/png": "[encoded data removed]",
      "text/plain": [
       "<Figure size 432x288 with 2 Axes>"
      ]
     },
     "metadata": {
      "needs_background": "light"
     },
     "output_type": "display_data"
    }
   ],
   "source": [
    "\n",
    "h = np.array([x_e[0][4:], x_pv[0][4:], x_som[0][4:], x_vip[0][4:]])\n",
    "\n",
    "import matplotlib.pyplot as plt\n",
    "plt.imshow(h)\n",
    "plt.ylabel('cell types')\n",
    "plt.xlabel('params')\n",
    "plt.xticks(np.arange(2), ['a', 'b'])\n",
    "plt.yticks(np.arange(4), cells)\n",
    "plt.colorbar()"
   ]
  },
  {
   "cell_type": "code",
   "execution_count": 15,
   "metadata": {},
   "outputs": [
    {
     "data": {
      "text/plain": [
       "array([[0.00194141, 0.34042947],\n",
       "       [0.00383783, 0.37665983],\n",
       "       [0.        , 0.3630127 ],\n",
       "       [0.        , 0.64538931]])"
      ]
     },
     "execution_count": 15,
     "metadata": {},
     "output_type": "execute_result"
    }
   ],
   "source": [
    "h"
   ]
  },
  {
   "cell_type": "code",
   "execution_count": null,
   "metadata": {},
   "outputs": [],
   "source": []
  },
  {
   "cell_type": "markdown",
   "metadata": {},
   "source": [
    "## predictions"
   ]
  },
  {
   "cell_type": "code",
   "execution_count": 40,
   "metadata": {},
   "outputs": [
    {
     "data": {
      "text/plain": [
       "Text(0.5, 1.0, 'SOM')"
      ]
     },
     "execution_count": 40,
     "metadata": {},
     "output_type": "execute_result"
    },
    {
     "data": {
      "image/png": "[encoded data removed]",
      "text/plain": [
       "<Figure size 432x288 with 1 Axes>"
      ]
     },
     "metadata": {
      "needs_background": "light"
     },
     "output_type": "display_data"
    }
   ],
   "source": [
    "A = np.concatenate((e_act[:,np.newaxis], -1*pv_act[:,np.newaxis], -1*som_act[:,np.newaxis], -1*vip_act[:,np.newaxis]), axis = 1)\n",
    "A = np.concatenate((A, np.zeros((A.shape[0],1))), axis = 1)\n",
    "A = np.concatenate((A, np.ones((A.shape[0],1))), axis = 1)\n",
    "\n",
    "Ai = np.concatenate((e_act[:,np.newaxis], -1* pv_act[:,np.newaxis], -1*som_act[:,np.newaxis], -1*vip_act[:,np.newaxis]), axis = 1)\n",
    "Is = data['contrast']\n",
    "Ai = np.concatenate((Ai, Is.T), axis=1)\n",
    "Ai = np.concatenate((Ai, np.ones((A.shape[0],1))), axis = 1)\n",
    "\n",
    "plt.scatter(range(len(som_act)),power_law_nl(np.dot(A,x_som[0])), label='prediction')\n",
    "plt.scatter(range(len(som_act)),som_act, label='ground truth')\n",
    "plt.xlabel('Intensity')\n",
    "plt.ylabel('Rate')\n",
    "plt.xticks(range(6),[data['contrast'][0][i] for i in range(6)])\n",
    "plt.legend()\n",
    "plt.title('SOM')"
   ]
  },
  {
   "cell_type": "code",
   "execution_count": 44,
   "metadata": {},
   "outputs": [
    {
     "data": {
      "text/plain": [
       "Text(0.5, 1.0, 'VIP')"
      ]
     },
     "execution_count": 44,
     "metadata": {},
     "output_type": "execute_result"
    },
    {
     "data": {
      "image/png": "[encoded data removed]",
      "text/plain": [
       "<Figure size 432x288 with 1 Axes>"
      ]
     },
     "metadata": {
      "needs_background": "light"
     },
     "output_type": "display_data"
    }
   ],
   "source": [
    "plt.scatter(range(len(vip_act)),power_law_nl(np.dot(A,x_vip[0])), label='prediction')\n",
    "plt.scatter(range(len(vip_act)),vip_act, label='ground truth')\n",
    "plt.xlabel('Intensity')\n",
    "plt.ylabel('Rate')\n",
    "plt.xticks(range(6),[data['contrast'][0][i] for i in range(6)])\n",
    "plt.legend()\n",
    "plt.title('VIP')"
   ]
  },
  {
   "cell_type": "code",
   "execution_count": 47,
   "metadata": {},
   "outputs": [
    {
     "data": {
      "text/plain": [
       "Text(0.5, 1.0, 'E')"
      ]
     },
     "execution_count": 47,
     "metadata": {},
     "output_type": "execute_result"
    },
    {
     "data": {
      "image/png": "[encoded data removed]",
      "text/plain": [
       "<Figure size 432x288 with 1 Axes>"
      ]
     },
     "metadata": {
      "needs_background": "light"
     },
     "output_type": "display_data"
    }
   ],
   "source": [
    "plt.scatter(range(len(e_act)),power_law_nl(np.dot(Ai,x_e[0])), label='prediction')\n",
    "plt.scatter(range(len(e_act)),e_act, label='ground truth')\n",
    "plt.xlabel('Intensity')\n",
    "plt.ylabel('Rate')\n",
    "plt.xticks(range(6),[data['contrast'][0][i] for i in range(6)])\n",
    "plt.legend()\n",
    "plt.title('E')"
   ]
  },
  {
   "cell_type": "code",
   "execution_count": 48,
   "metadata": {},
   "outputs": [
    {
     "data": {
      "text/plain": [
       "Text(0.5, 1.0, 'PV')"
      ]
     },
     "execution_count": 48,
     "metadata": {},
     "output_type": "execute_result"
    },
    {
     "data": {
      "image/png": "[encoded data removed]",
      "text/plain": [
       "<Figure size 432x288 with 1 Axes>"
      ]
     },
     "metadata": {
      "needs_background": "light"
     },
     "output_type": "display_data"
    }
   ],
   "source": [
    "plt.scatter(range(len(pv_act)),power_law_nl(np.dot(Ai,x_pv[0])), label='prediction')\n",
    "plt.scatter(range(len(pv_act)),pv_act, label='ground truth')\n",
    "plt.xlabel('Intensity')\n",
    "plt.ylabel('Rate')\n",
    "plt.xticks(range(6),[data['contrast'][0][i] for i in range(6)])\n",
    "plt.legend()\n",
    "plt.title('PV')"
   ]
  },
  {
   "cell_type": "code",
   "execution_count": 50,
   "metadata": {},
   "outputs": [
    {
     "data": {
      "image/png": "[encoded data removed]",
      "text/plain": [
       "<Figure size 720x576 with 4 Axes>"
      ]
     },
     "metadata": {
      "needs_background": "light"
     },
     "output_type": "display_data"
    }
   ],
   "source": [
    "fig, axs = plt.subplots(2, 2, figsize=(10, 8))  # Creates a 2x2 grid of subplots\n",
    "\n",
    "# Titles for each subplot\n",
    "titles = ['SOM', 'VIP', 'PV', 'E']\n",
    "acts = [som_act, vip_act, pv_act, e_act]\n",
    "x = [x_som, x_vip, x_pv, x_e]\n",
    "\n",
    "# Iterate over each subplot to plot the data\n",
    "for i, ax in enumerate(axs.flat):\n",
    "    if i < 2:\n",
    "        ax.scatter(range(len(som_act)), power_law_nl(np.dot(A, x[i][0])), label='prediction')\n",
    "        ax.scatter(range(len(som_act)), acts[i], label='ground truth')\n",
    "    else:\n",
    "        ax.scatter(range(len(som_act)), power_law_nl(np.dot(Ai, x[i][0])), label='prediction')\n",
    "        ax.scatter(range(len(som_act)), acts[i], label='ground truth')\n",
    "    ax.set_xlabel('Intensity')\n",
    "    ax.set_ylabel('Rate')\n",
    "    ax.set_xticks(range(6))\n",
    "    ax.set_xticklabels([data['contrast'][0][j] for j in range(6)])\n",
    "    ax.legend()\n",
    "    ax.set_title(titles[i])\n",
    "\n",
    "plt.tight_layout()\n",
    "plt.show()"
   ]
  },
  {
   "cell_type": "code",
   "execution_count": null,
   "metadata": {},
   "outputs": [],
   "source": [
    "# also possible to sample mean from distribution"
   ]
  }
 ],
 "metadata": {
  "kernelspec": {
   "display_name": "base",
   "language": "python",
   "name": "python3"
  },
  "language_info": {
   "codemirror_mode": {
    "name": "ipython",
    "version": 3
   },
   "file_extension": ".py",
   "mimetype": "text/x-python",
   "name": "python",
   "nbconvert_exporter": "python",
   "pygments_lexer": "ipython3",
   "version": "3.7.6"
  }
 },
 "nbformat": 4,
 "nbformat_minor": 2
}
